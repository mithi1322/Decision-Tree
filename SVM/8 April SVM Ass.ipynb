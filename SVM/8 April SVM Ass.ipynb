{
 "cells": [
  {
   "cell_type": "markdown",
   "id": "1ce96221-3780-41f6-96f6-e0f10e5cb90f",
   "metadata": {},
   "source": [
    "Q1. In order to predict house price based on several characteristics, such as location, square footage,\n",
    "number of bedrooms, etc., you are developing an SVM regression model. Which regression metric in this\n",
    "situation would be the best to employ?\n",
    "\n",
    "Dataset link: https://drive.google.com/file/d/1Z9oLpmt6IDRNw7IeNcHYTGeJRYypRSC0/view?usp=share_link"
   ]
  },
  {
   "cell_type": "markdown",
   "id": "324c5f5b-c277-4965-a347-4146f603f2c9",
   "metadata": {},
   "source": [
    "# Answer 1:\n",
    "In this situation, the best regression metric to employ would be the Mean Squared Error (MSE). MSE calculates the average of the squared differences between the predicted and actual house prices. It provides a measure of the average squared deviation of the predicted prices from the actual prices. Since house prices are typically continuous variables, MSE is a suitable metric to assess the accuracy and performance of the SVM regression model."
   ]
  },
  {
   "cell_type": "markdown",
   "id": "7c0be215-2ab8-4528-81ad-8bf7e8ebf9f1",
   "metadata": {},
   "source": [
    "Q2. You have built an SVM regression model and are trying to decide between using MSE or R-squared as\n",
    "your evaluation metric. Which metric would be more appropriate if your goal is to predict the actual price\n",
    "of a house as accurately as possible?\n"
   ]
  },
  {
   "cell_type": "markdown",
   "id": "4edb643a-1979-435f-ba07-3836f5754acf",
   "metadata": {},
   "source": [
    "# Answer 2:\n",
    "If the goal is to predict the actual price of a house as accurately as possible, the most appropriate evaluation metric would be the Mean Squared Error (MSE). MSE measures the average of the squared differences between the predicted and actual house prices. It provides a direct measure of the accuracy of the predictions by penalizing large deviations between the predicted and actual prices. R-squared, on the other hand, measures the proportion of the variance in the target variable that is explained by the model. While R-squared is useful for assessing the goodness of fit, MSE provides a more direct measure of the prediction accuracy.\n"
   ]
  },
  {
   "cell_type": "markdown",
   "id": "df15481d-d9e2-49f7-a56a-7f89bba6b4dd",
   "metadata": {},
   "source": [
    "Q3. You have a dataset with a significant number of outliers and are trying to select an appropriate regression metric to use with your SVM model. Which metric would be the most appropriate in this scenario?"
   ]
  },
  {
   "cell_type": "markdown",
   "id": "975761ec-34db-45ba-85c2-31a45f177d85",
   "metadata": {},
   "source": [
    "# Answer 3:\n",
    "When dealing with a dataset that contains a significant number of outliers, it is recommended to use evaluation metrics that are robust to outliers. One such metric is the Mean Absolute Error (MAE). MAE calculates the average of the absolute differences between the predicted and actual values, disregarding the sign of the differences. It is less sensitive to outliers compared to other metrics like MSE or RMSE, as it does not square the differences. Therefore, MAE would be the most appropriate metric to use in this scenario.\n"
   ]
  },
  {
   "cell_type": "markdown",
   "id": "8e5e3f6f-af65-419d-8fea-cb36e5dfbf2f",
   "metadata": {},
   "source": [
    "Q4. You have built an SVM regression model using a polynomial kernel and are trying to select the best metric to evaluate its performance. You have calculated both MSE and RMSE and found that both values are very close. Which metric should you choose to use in this case?\n"
   ]
  },
  {
   "cell_type": "markdown",
   "id": "346a8732-096c-465b-95f8-5219bd08a8eb",
   "metadata": {},
   "source": [
    "# Answer 4:\n",
    "When both the Mean Squared Error (MSE) and Root Mean Squared Error (RMSE) values are very close, it is generally recommended to use RMSE as the evaluation metric. RMSE is derived from MSE by taking the square root of the average squared differences between the predicted and actual values. The main advantage of RMSE over MSE is that it is in the same unit as the target variable, which makes it more interpretable. RMSE represents the average magnitude of the prediction errors in the original scale of the target variable, whereas MSE is in squared units. Therefore, RMSE would be the preferred metric to use in this case.\n"
   ]
  },
  {
   "cell_type": "markdown",
   "id": "73763f29-ac81-4692-868d-8001171f0f79",
   "metadata": {},
   "source": [
    "Q5. You are comparing the performance of different SVM regression models using different kernels (linear, polynomial, and RBF) and are trying to select the best evaluation metric. Which metric would be most appropriate if your goal is to measure how well the model explains the variance in the target variable?\n"
   ]
  },
  {
   "cell_type": "markdown",
   "id": "95ce625f-9902-4ed2-8581-29724849cbc6",
   "metadata": {},
   "source": [
    "# Answer 5:\n",
    "If the goal is to measure how well the model explains the variance in the target variable, the most appropriate evaluation metric would be the R-squared (coefficient of determination). R-squared measures the proportion of the variance in the target variable that is explained by the model. It provides an indication of how well the model captures the variability in the target variable. R-squared ranges from 0 to 1, where 0 indicates that the model does not explain any of the variance, and 1 indicates that the model explains all the variance. Therefore, R-squared would be the preferred metric to use in this scenario to assess the explanatory power of the different SVM regression models with different kernels."
   ]
  },
  {
   "cell_type": "code",
   "execution_count": null,
   "id": "b718f78a-3e9d-4718-a8ce-756afe610806",
   "metadata": {},
   "outputs": [],
   "source": []
  }
 ],
 "metadata": {
  "kernelspec": {
   "display_name": "Python 3 (ipykernel)",
   "language": "python",
   "name": "python3"
  },
  "language_info": {
   "codemirror_mode": {
    "name": "ipython",
    "version": 3
   },
   "file_extension": ".py",
   "mimetype": "text/x-python",
   "name": "python",
   "nbconvert_exporter": "python",
   "pygments_lexer": "ipython3",
   "version": "3.10.8"
  }
 },
 "nbformat": 4,
 "nbformat_minor": 5
}
